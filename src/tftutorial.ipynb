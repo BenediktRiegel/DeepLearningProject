{
 "cells": [
  {
   "cell_type": "markdown",
   "metadata": {
    "slideshow": {
     "slide_type": "slide"
    }
   },
   "source": [
    "# Tensorflow 2 / Keras Tutorial\n",
    "\n",
    "* Tensorflow allows you to perform tensor calculations\n",
    "* great benefits:\n",
    "    * automatic differentiation\n",
    "    * move data to GPU -> faster calculation for large amounts of data"
   ]
  },
  {
   "cell_type": "markdown",
   "metadata": {},
   "source": [
    "## First steps\n",
    "Install tensorflow (CPU-only): `pip install tensorflow`\n",
    "\n",
    "or for GPU (requires CUDA >= 10.0): `pip tensorflow-gpu`"
   ]
  },
  {
   "cell_type": "code",
   "execution_count": 1,
   "metadata": {},
   "outputs": [],
   "source": [
    "import tensorflow as tf\n",
    "import numpy as np"
   ]
  },
  {
   "cell_type": "markdown",
   "metadata": {},
   "source": [
    "## Tensors\n",
    "\n",
    "Tensors can be created in a number of ways:\n",
    "\n",
    "* from numpy arrays\n",
    "* from lists\n",
    "* using tensorflow functions\n",
    "    * e.g. `tf.ones`, `tf.zeros`, ...\n",
    "    * also, calculation functions convert to tf tensors automatically: `tf.add`, ..."
   ]
  },
  {
   "cell_type": "code",
   "execution_count": 2,
   "metadata": {},
   "outputs": [
    {
     "name": "stdout",
     "output_type": "stream",
     "text": [
      "type of a: <class 'numpy.ndarray'>\n",
      "type of b: <class 'tensorflow.python.framework.ops.EagerTensor'>\n",
      "type of c: <class 'tensorflow.python.framework.ops.EagerTensor'>\n",
      "tf.Tensor([1. 2. 3.], shape=(3,), dtype=float32)\n"
     ]
    }
   ],
   "source": [
    "import numpy as np\n",
    "import tensorflow as tf\n",
    "\n",
    "# create a numpy array\n",
    "a = np.array([1,2,3])\n",
    "print(f\"type of a: {type(a)}\")\n",
    "\n",
    "# create tensor of zeros\n",
    "b = tf.zeros((3,))\n",
    "print(f\"type of b: {type(b)}\")\n",
    "\n",
    "# automatic conversion to tensor\n",
    "c = tf.add(a,b)\n",
    "print(f\"type of c: {type(c)}\")\n",
    "\n",
    "# print contents\n",
    "print(c)"
   ]
  },
  {
   "cell_type": "markdown",
   "metadata": {},
   "source": [
    "Now the cool stuff - automatic differentiation!\n",
    "To tell tensorflow to record changes to variables, you need a `GradientTape`.\n",
    "It records the changes to variables \"on a tape\".\n",
    "This tape can then be queried for gradients.\n",
    "\n",
    "Let's differentiate $y = x*2 + z$ w.r.t $x, z \\in \\mathbb{R}^3$"
   ]
  },
  {
   "cell_type": "code",
   "execution_count": 3,
   "metadata": {},
   "outputs": [
    {
     "name": "stdout",
     "output_type": "stream",
     "text": [
      "y tf.Tensor([3. 3. 3.], shape=(3,), dtype=float32)\n",
      "dy/dx = [2. 2. 2.], dy/dz = [1. 1. 1.]\n"
     ]
    }
   ],
   "source": [
    "x = tf.ones((3,))\n",
    "z = tf.ones((3,))\n",
    "\n",
    "with tf.GradientTape(persistent=True) as t:\n",
    "    t.watch((x,z))\n",
    "    y = x*2 + z\n",
    "    print(\"y\", y)\n",
    "print(f\"dy/dx = {t.gradient(y,x)}, dy/dz = {t.gradient(y,z)}\")"
   ]
  },
  {
   "cell_type": "markdown",
   "metadata": {},
   "source": [
    "That is the first step on getting a trainable model - now that we can calculate gradients,\n",
    "we can try building and training our first linear layers - with one tensor for the weights and one for the bias.\n",
    "\n",
    "Tensors are, however, immutable - we actually want to adapt our weights by gradient descent over time.\n",
    "This is where *Variables* come in. They are essentially mutable tensors."
   ]
  },
  {
   "cell_type": "code",
   "execution_count": 4,
   "metadata": {},
   "outputs": [
    {
     "name": "stdout",
     "output_type": "stream",
     "text": [
      "<tf.Variable 'Variable:0' shape=(3,) dtype=float32, numpy=array([1., 1., 1.], dtype=float32)>\n",
      "<tf.Variable 'Variable:0' shape=(3,) dtype=float32, numpy=array([2., 2., 2.], dtype=float32)>\n"
     ]
    }
   ],
   "source": [
    "# create tensor of ones\n",
    "x = tf.Variable(tf.ones((3,)))\n",
    "print(x)\n",
    "\n",
    "# add tensor of ones, thereby changing the state of x\n",
    "x.assign_add(tf.ones((3,)))\n",
    "print(x)"
   ]
  },
  {
   "cell_type": "markdown",
   "metadata": {},
   "source": [
    "Now we have everything to build our own linear layer with sigmoid activation\n",
    "\n",
    "$f(\\mathbf{x}) = \\sigma(\\mathbf{W}\\mathbf{x} + \\mathbf{b})$\n",
    "\n",
    "and a square loss function\n",
    "\n",
    "$loss(y,\\hat{y}) = (y-\\hat{y})^2$"
   ]
  },
  {
   "cell_type": "code",
   "execution_count": 5,
   "metadata": {},
   "outputs": [
    {
     "name": "stdout",
     "output_type": "stream",
     "text": [
      "shape of W: (1, 4)\n",
      "shape of b: (1, 1)\n",
      "forward pass: sigmoid(Wx + b) =  tf.Tensor([[0.9144302]], shape=(1, 1), dtype=float32)\n",
      "loss:  tf.Tensor([[0.00732219]], shape=(1, 1), dtype=float32)\n",
      "backward pass:\n",
      "dloss/dW =  tf.Tensor([[-0.01339126 -0.01339126 -0.01339126 -0.01339126]], shape=(1, 4), dtype=float32)\n",
      "dloss/db =  tf.Tensor([[-0.01339126]], shape=(1, 1), dtype=float32)\n"
     ]
    }
   ],
   "source": [
    "def se_loss(y_hat, y):\n",
    "    loss = tf.square(y_hat-y)  # (y^ - y)^2\n",
    "    return loss\n",
    "\n",
    "class Perceptron:\n",
    "    def __init__(self, in_size: int, out_size: int):\n",
    "        # randomly initialize weights\n",
    "        self.W = tf.Variable(np.random.sample((out_size, in_size)), dtype=tf.float32)  # insize x outsize\n",
    "        self.b = tf.Variable(np.random.sample((out_size, 1)), dtype=tf.float32)        # outsize\n",
    "        self.activation = tf.sigmoid\n",
    "        print(f\"shape of W: {self.W.shape}\")\n",
    "        print(f\"shape of b: {self.b.shape}\")\n",
    "        \n",
    "    def __call__(self, x):\n",
    "        # forward pass \n",
    "        Wx = tf.matmul(self.W, x)\n",
    "        z = tf.add(Wx, self.b)\n",
    "        y = self.activation(z)\n",
    "        return y\n",
    "    \n",
    "    \n",
    "def loss_and_grads(model, x, y, print_stuff=False):\n",
    "    with tf.GradientTape() as t:\n",
    "        y_hat = model(x)\n",
    "        loss = se_loss(y_hat, y)\n",
    "        \n",
    "        dW, db = t.gradient(loss, [model.W, model.b])\n",
    "    if print_stuff:\n",
    "        print(\"forward pass: sigmoid(Wx + b) = \", y_hat)\n",
    "        print(\"loss: \", loss)\n",
    "        print(\"backward pass:\")\n",
    "        print(\"dloss/dW = \", dW)\n",
    "        print(\"dloss/db = \", db)\n",
    "    return y_hat, loss, (dW, db)\n",
    "    \n",
    "\n",
    "l = Perceptron(in_size=4, out_size=1)\n",
    "x = tf.ones([4,1])\n",
    "y = tf.ones([1,])\n",
    "y_hat, loss, t = loss_and_grads(l, x, y, print_stuff=True)"
   ]
  },
  {
   "cell_type": "markdown",
   "metadata": {},
   "source": [
    "## Training your first neural network\n",
    "\n",
    "**Our problem:** \n",
    "Ever since Grumpy Cat became internet famous, he has been put on millions of memes.\n",
    "As you can imagine, there is a huge amount of requests for him to judge events as being either nice or horrible.\n",
    "Grumpy Cat is sick of dealing with each request manually and wants us to build a very sophisticated classifier for this task using neural networks (being a lot on the internet, Grumpy Cat knows what the latest hype is about).\n",
    "\n",
    "<img src=\"https://i2.wp.com/metro.co.uk/wp-content/uploads/2019/05/SEI_67888770.jpg?quality=90&strip=all&zoom=1&resize=540%2C405&ssl=1\"/>\n",
    "(https://i2.wp.com/metro.co.uk/wp-content/uploads/2019/05/SEI_67888770.jpg?quality=90&strip=all&zoom=1&resize=540%2C405&ssl=1)\n",
    "\n",
    "So we ask Grumpy Cat for some example data points in the form of $(x,y)$. \n",
    "x refers to Grumpy Cat's observations, y to his rating.\n",
    "\n",
    "where x = (\n",
    "           # mondays in sentence, \n",
    "           # references to a movie, \n",
    "           grumy cat had breakfast (0 or 1), \n",
    "           # humans grumpy cat has seen today\n",
    "           )\n",
    "and $y = 0$ if nice, $y=1$ if horrible.\n",
    "\n",
    "Grumpy cat then concatenates all samples into a dataset $(X,Y)$:\n",
    "$X \\in \\mathbb{R}^{n \\times 4}, Y \\in \\mathbb{R}^{n \\times 1} $"
   ]
  },
  {
   "cell_type": "code",
   "execution_count": 15,
   "metadata": {},
   "outputs": [
    {
     "name": "stdout",
     "output_type": "stream",
     "text": [
      "X shape: (1000, 4)\n",
      "mondays: 3, movies: 7, breakfast: True, humans: 20\n",
      "mondays: 2, movies: 4, breakfast: True, humans: 3\n",
      "mondays: 2, movies: 2, breakfast: True, humans: 35\n",
      "mondays: 5, movies: 4, breakfast: True, humans: 10\n",
      "mondays: 8, movies: 3, breakfast: False, humans: 48\n",
      "Y shape:  (1000,)\n"
     ]
    }
   ],
   "source": [
    "num_samples = 1000\n",
    "\n",
    "num_mondays = np.random.randint(low=0, high=10, size=(num_samples,))\n",
    "num_references = np.random.randint(low=0, high=10, size=(num_samples,))\n",
    "had_breakfast = np.random.randint(low=0, high=2, size=(num_samples,))\n",
    "num_humans = np.random.randint(low=0, high=50, size=(num_samples,))\n",
    "\n",
    "# create X by concatenating features column-wise\n",
    "X = np.stack([num_mondays, num_references, had_breakfast, num_humans], axis=1)\n",
    "print(\"X shape:\", X.shape)\n",
    "for i in range(5):\n",
    "    print(f\"mondays: {X[i,0]}, movies: {X[i,1]}, breakfast: {bool(X[i,2])}, humans: {X[i,3]}\")\n",
    "    \n",
    "# create Y:\n",
    "Y = np.random.randint(low=1, high=2, size=(num_samples, )) # everything is horrible!\n",
    "print(\"Y shape: \", Y.shape)"
   ]
  },
  {
   "cell_type": "code",
   "execution_count": 16,
   "metadata": {},
   "outputs": [
    {
     "name": "stdout",
     "output_type": "stream",
     "text": [
      "shape of W: (1, 4)\n",
      "shape of b: (1, 1)\n",
      "initial bias: <tf.Variable 'Variable:0' shape=(1, 1) dtype=float32, numpy=array([[0.8129599]], dtype=float32)>\n",
      "intial weights: <tf.Variable 'Variable:0' shape=(1, 4) dtype=float32, numpy=array([[0.46954912, 0.03254253, 0.81848973, 0.653151  ]], dtype=float32)>\n",
      "epoch 0 loss: 7.480580825358629e-05\n",
      "epoch 1 loss: 3.72356444131583e-05\n",
      "epoch 2 loss: 2.7693928132066503e-05\n",
      "epoch 3 loss: 2.2479029212263413e-05\n",
      "epoch 4 loss: 1.9105786122963764e-05\n",
      "trained bias <tf.Variable 'Variable:0' shape=(1, 1) dtype=float32, numpy=array([[0.97682923]], dtype=float32)>\n",
      "trained weights <tf.Variable 'Variable:0' shape=(1, 4) dtype=float32, numpy=array([[0.5604065 , 0.37618437, 0.84506536, 0.8208848 ]], dtype=float32)>\n"
     ]
    },
    {
     "data": {
      "image/png": "[encoded data removed]",
      "text/plain": [
       "<Figure size 432x288 with 1 Axes>"
      ]
     },
     "metadata": {
      "needs_background": "light"
     },
     "output_type": "display_data"
    }
   ],
   "source": [
    "import matplotlib.pyplot as plt\n",
    "import random\n",
    "\n",
    "alpha = 0.5 # learning rate\n",
    "perceptron = Perceptron(in_size=4, out_size=1)\n",
    "print(\"initial bias:\", perceptron.b)\n",
    "print(\"intial weights:\", perceptron.W)\n",
    "\n",
    "losses = []\n",
    "for epoch in range(5):\n",
    "    epoch_loss = []\n",
    "    shuffled_indices = list(range(X.shape[0]))\n",
    "    random.shuffle(shuffled_indices)\n",
    "    for i in shuffled_indices:\n",
    "        # forward & backward pass (just draw random x, try to map all inputs to 1)\n",
    "        x = tf.convert_to_tensor(X[i,:].reshape(4,1), dtype=tf.float32)\n",
    "        y = tf.convert_to_tensor(Y[i], dtype=tf.float32)\n",
    "        \n",
    "        y_hat, loss, (dW, db) = loss_and_grads(perceptron, x, y)\n",
    "\n",
    "        # apply gradients from backward pass\n",
    "        perceptron.W.assign_sub(alpha * dW)\n",
    "        perceptron.b.assign_sub(alpha * db)\n",
    "\n",
    "        epoch_loss.append(loss[0,0])\n",
    "    print(f\"epoch {epoch} loss: {sum(epoch_loss) / len(epoch_loss)}\")\n",
    "    losses.append(sum(epoch_loss) / len(epoch_loss))\n",
    "\n",
    "plt.plot(losses)\n",
    "print(\"trained bias\", perceptron.b)\n",
    "print(\"trained weights\", perceptron.W)"
   ]
  },
  {
   "cell_type": "markdown",
   "metadata": {},
   "source": [
    "Let's try some predictions (remember: 0 is nice, 1 is grumpy):"
   ]
  },
  {
   "cell_type": "code",
   "execution_count": 18,
   "metadata": {},
   "outputs": [
    {
     "name": "stdout",
     "output_type": "stream",
     "text": [
      "tf.Tensor([[1.]], shape=(1, 1), dtype=float32)\n",
      "tf.Tensor([[0.9999956]], shape=(1, 1), dtype=float32)\n",
      "tf.Tensor([[0.9992988]], shape=(1, 1), dtype=float32)\n"
     ]
    }
   ],
   "source": [
    "def predict(x):\n",
    "    y_hat = perceptron(x)\n",
    "    return y_hat\n",
    "    \n",
    "print(predict([[10.],[10.],[0.],[10.]]))\n",
    "print(predict([[5.],[3.],[1.],[8.]]))\n",
    "print(predict([[2.],[5.],[0.],[4.]]))"
   ]
  },
  {
   "cell_type": "markdown",
   "metadata": {},
   "source": [
    "We present our model to grumpy cat, and, suprisingly, he thinks we did a woeful job.\n",
    "\n",
    "<img width=\"450px\" src=\"https://pm1.narvii.com/5788/b89a6d573c478bd8c4c17328ab101c8a08f4e84e_hq.jpg\"/>\n",
    "(https://pm1.narvii.com/5788/b89a6d573c478bd8c4c17328ab101c8a08f4e84e_hq.jpg\")\n",
    "\n",
    "\n",
    "According to him, our approach is flawed in multiple ways:\n",
    "* potentially unstable (fixed learning rate, no averaging across multiple samples - high gradient variance)\n",
    "* inefficient (no batching)\n",
    "\n",
    "\n",
    "As is customary with cats, grumpy changed his mind - he now wants us to do multi-class classification: $y \\in \\{$ nice, bad, very bad $\\}$!\n",
    "\n",
    "\n",
    "Also, Grumpy recently heard of \"deep\" learning and is afraid that our model is too shallow to be trendy anymore.\n",
    "\n",
    "\n",
    "**Phew, that would be a large amount of work to modify our model!**\n",
    "\n",
    "Keras to the rescue!"
   ]
  },
  {
   "cell_type": "markdown",
   "metadata": {},
   "source": [
    "Let's first re-build our current Model with Keras.\n",
    "\n",
    "We will make use of the following functionallity\n",
    "* tf.keras.Sequential module: a list of network layers\n",
    "* tf.keras.layers.Dense: a linear layer with activation of your choosing\n",
    "* compile(): create your model with optimizer and loss function\n",
    "* fit(): train on input data and labels for the specified amount of epochs\n",
    "* history: keras records training statistics for us"
   ]
  },
  {
   "cell_type": "code",
   "execution_count": 19,
   "metadata": {},
   "outputs": [
    {
     "name": "stdout",
     "output_type": "stream",
     "text": [
      "Epoch 1/5\n",
      "1000/1000 [==============================] - 1s 511us/step - loss: 2.8486e-04\n",
      "Epoch 2/5\n",
      "1000/1000 [==============================] - 1s 533us/step - loss: 5.6463e-05\n",
      "Epoch 3/5\n",
      "1000/1000 [==============================] - 1s 552us/step - loss: 4.0761e-05\n",
      "Epoch 4/5\n",
      "1000/1000 [==============================] - 1s 562us/step - loss: 3.2285e-05\n",
      "Epoch 5/5\n",
      "1000/1000 [==============================] - 1s 537us/step - loss: 2.6836e-05\n"
     ]
    },
    {
     "data": {
      "image/png": "[encoded data removed]",
      "text/plain": [
       "<Figure size 432x288 with 1 Axes>"
      ]
     },
     "metadata": {
      "needs_background": "light"
     },
     "output_type": "display_data"
    }
   ],
   "source": [
    "import tensorflow as tf\n",
    "import tensorflow.keras as keras\n",
    "\n",
    "\n",
    "perceptron = tf.keras.Sequential([\n",
    "    tf.keras.layers.Dense(1, activation=\"sigmoid\")\n",
    "])\n",
    "perceptron.compile(optimizer=tf.keras.optimizers.SGD(learning_rate=0.5),\n",
    "              loss=keras.losses.MeanSquaredError())\n",
    "train_history = perceptron.fit(X, Y, epochs=5, batch_size=1)\n",
    "\n",
    "# Plot training loss values\n",
    "plt.plot(train_history.history['loss'])\n",
    "plt.title('Model loss')\n",
    "plt.ylabel('Loss')\n",
    "plt.xlabel('Epoch')\n",
    "plt.legend(['Train'], loc='upper left')\n",
    "plt.show()"
   ]
  },
  {
   "cell_type": "markdown",
   "metadata": {},
   "source": [
    "We can improve stability & performance by batching (processing multiple data points at the same time -> averaging  the gradients across one mini-batch instead of one sample -> stability).\n",
    "\n",
    "That means, we append a batch dimension ($b \\in \\mathbb{N}^{+}$) to our tensors:\n",
    "    \n",
    "$x \\in \\mathbb{R}^4 \\rightarrow x \\in \\mathbb{R}^{b \\times 4}$ \n",
    "\n",
    "and\n",
    "\n",
    "$y \\in \\mathbb{R} \\rightarrow y \\in \\mathbb{R}^{b \\times 1}$\n",
    "\n",
    "In Keras, we can specify the batch size simply by appending it to the fit() arguments."
   ]
  },
  {
   "cell_type": "code",
   "execution_count": 20,
   "metadata": {},
   "outputs": [
    {
     "name": "stdout",
     "output_type": "stream",
     "text": [
      "Epoch 1/5\n",
      "32/32 [==============================] - 0s 593us/step - loss: 0.0296\n",
      "Epoch 2/5\n",
      "32/32 [==============================] - 0s 622us/step - loss: 8.1958e-04\n",
      "Epoch 3/5\n",
      "32/32 [==============================] - 0s 694us/step - loss: 4.6339e-04\n",
      "Epoch 4/5\n",
      "32/32 [==============================] - 0s 631us/step - loss: 3.4112e-04\n",
      "Epoch 5/5\n",
      "32/32 [==============================] - 0s 709us/step - loss: 2.7424e-04\n"
     ]
    },
    {
     "data": {
      "image/png": "[encoded data removed]",
      "text/plain": [
       "<Figure size 432x288 with 1 Axes>"
      ]
     },
     "metadata": {
      "needs_background": "light"
     },
     "output_type": "display_data"
    }
   ],
   "source": [
    "perceptron = tf.keras.Sequential([\n",
    "    tf.keras.layers.Dense(1, activation='sigmoid')\n",
    "])\n",
    "perceptron.compile(optimizer=tf.keras.optimizers.SGD(learning_rate=0.5),\n",
    "              loss=keras.losses.MeanSquaredError())\n",
    "train_history = perceptron.fit(X,Y, epochs=5, batch_size=32)\n",
    "\n",
    "\n",
    "# Plot training loss values\n",
    "plt.plot(train_history.history['loss'])\n",
    "plt.title('Model loss')\n",
    "plt.ylabel('Loss')\n",
    "plt.xlabel('Epoch')\n",
    "plt.legend(['Train'], loc='upper left')\n",
    "plt.show()"
   ]
  },
  {
   "cell_type": "markdown",
   "metadata": {},
   "source": [
    "Now, the last change Grumpy Cat demanded of us:\n",
    "More layers and multi-class classification!\n",
    "\n",
    "As you learned in your last excercise, we will expand the network to output 1 number per class,\n",
    "apply softmax instead of sigmoid and finally swap our loss function to *CrossEntropy*."
   ]
  },
  {
   "cell_type": "code",
   "execution_count": 21,
   "metadata": {},
   "outputs": [
    {
     "data": {
      "image/png": "[encoded data removed]",
      "text/plain": [
       "<Figure size 432x288 with 1 Axes>"
      ]
     },
     "metadata": {
      "needs_background": "light"
     },
     "output_type": "display_data"
    }
   ],
   "source": [
    "multiClassModel = tf.keras.Sequential([\n",
    "    tf.keras.layers.Dense(3, activation='sigmoid'),\n",
    "    tf.keras.layers.Dense(3, activation='softmax')\n",
    "])\n",
    "multiClassModel.compile(optimizer=tf.keras.optimizers.SGD(learning_rate=0.5),\n",
    "              loss='categorical_crossentropy')\n",
    "\n",
    "Y_multiClass = np.zeros((X.shape[0], 3))\n",
    "Y_multiClass[:,2] = 1\n",
    "train_history = multiClassModel.fit(X,Y_multiClass, epochs=10, verbose=0, batch_size=16)\n",
    "\n",
    "\n",
    "# Plot training loss values\n",
    "plt.plot(train_history.history['loss'])\n",
    "plt.title('Model loss')\n",
    "plt.ylabel('Loss')\n",
    "plt.xlabel('Sample')\n",
    "plt.legend(['Train'], loc='upper left')\n",
    "plt.show()"
   ]
  },
  {
   "cell_type": "markdown",
   "metadata": {},
   "source": [
    "We can use keras not only to train, but also to predict:"
   ]
  },
  {
   "cell_type": "code",
   "execution_count": 22,
   "metadata": {},
   "outputs": [
    {
     "name": "stdout",
     "output_type": "stream",
     "text": [
      "[[3.0954040e-04 2.9541872e-04 9.9939501e-01]]\n",
      "[[3.1023033e-04 2.9606256e-04 9.9939370e-01]]\n",
      "[[3.7248447e-04 3.5821964e-04 9.9926931e-01]]\n"
     ]
    }
   ],
   "source": [
    "import tensorflow.keras as keras\n",
    "import matplotlib.pyplot as plt\n",
    "print(multiClassModel.predict(X[0,:].reshape(1,4)))\n",
    "print(multiClassModel.predict([[5.,3.,1.,8.]]))\n",
    "print(multiClassModel.predict([[2.,5.,0.,4.]]))"
   ]
  },
  {
   "cell_type": "markdown",
   "metadata": {},
   "source": [
    "To see our model architecture in more human-readable form, we can use the *summary()* function"
   ]
  },
  {
   "cell_type": "code",
   "execution_count": 23,
   "metadata": {},
   "outputs": [
    {
     "name": "stdout",
     "output_type": "stream",
     "text": [
      "Model: \"sequential_2\"\n",
      "_________________________________________________________________\n",
      "Layer (type)                 Output Shape              Param #   \n",
      "=================================================================\n",
      "dense_2 (Dense)              multiple                  15        \n",
      "_________________________________________________________________\n",
      "dense_3 (Dense)              multiple                  12        \n",
      "=================================================================\n",
      "Total params: 27\n",
      "Trainable params: 27\n",
      "Non-trainable params: 0\n",
      "_________________________________________________________________\n",
      "None\n"
     ]
    }
   ],
   "source": [
    "print(multiClassModel.summary())"
   ]
  },
  {
   "cell_type": "markdown",
   "metadata": {},
   "source": [
    "Best practices:\n",
    "* Split your dataset into training, development and test datasets\n",
    "    * train on training set\n",
    "    * tune your model on development set\n",
    "    * test your model on test set\n",
    "        * only then do you have an estimate how well your model works on unseen data\n",
    "        * **never use test set for training or tuning!**"
   ]
  },
  {
   "cell_type": "markdown",
   "metadata": {},
   "source": [
    "Using a development set during training in Keras is easy:\n",
    "either provide `validation_data` to the fit function or \n",
    "provide the fraction of your training set to be used as validatiton data via `validation_split` $\\in [0,1)$"
   ]
  },
  {
   "cell_type": "code",
   "execution_count": 25,
   "metadata": {},
   "outputs": [
    {
     "data": {
      "image/png": "[encoded data removed]",
      "text/plain": [
       "<Figure size 432x288 with 1 Axes>"
      ]
     },
     "metadata": {
      "needs_background": "light"
     },
     "output_type": "display_data"
    }
   ],
   "source": [
    "multiClassModel = tf.keras.Sequential([\n",
    "    tf.keras.layers.Dense(3, activation='sigmoid'),\n",
    "    tf.keras.layers.Dense(3, activation='softmax')\n",
    "])\n",
    "multiClassModel.compile(optimizer=tf.keras.optimizers.SGD(learning_rate=0.5),\n",
    "              loss='categorical_crossentropy')\n",
    "\n",
    "Y_multiClass = np.zeros((X.shape[0], 3))\n",
    "Y_multiClass[:,2] = 1\n",
    "train_history = multiClassModel.fit(X,Y_multiClass, epochs=10, verbose=0, validation_split=0.3, batch_size=16)\n",
    "\n",
    "# Plot training and development loss values\n",
    "plt.plot(train_history.history['loss'])\n",
    "plt.plot(train_history.history['val_loss'])\n",
    "plt.title('Model loss')\n",
    "plt.ylabel('Loss')\n",
    "plt.xlabel('Sample')\n",
    "plt.legend(['Train', 'Validation'], loc='upper left')\n",
    "plt.show()"
   ]
  },
  {
   "cell_type": "markdown",
   "metadata": {},
   "source": [
    "For testing, Keras comes with the `evaluate()`-function"
   ]
  },
  {
   "cell_type": "code",
   "execution_count": 26,
   "metadata": {},
   "outputs": [
    {
     "name": "stdout",
     "output_type": "stream",
     "text": [
      "32/32 [==============================] - 0s 796us/step - loss: 0.0011\n"
     ]
    }
   ],
   "source": [
    "train_history = multiClassModel.evaluate(X,Y_multiClass)"
   ]
  },
  {
   "cell_type": "markdown",
   "metadata": {},
   "source": [
    "For a classifier, you might also be interested in the accuracy:"
   ]
  },
  {
   "cell_type": "code",
   "execution_count": 27,
   "metadata": {},
   "outputs": [
    {
     "data": {
      "image/png": "[encoded data removed]",
      "text/plain": [
       "<Figure size 432x288 with 1 Axes>"
      ]
     },
     "metadata": {
      "needs_background": "light"
     },
     "output_type": "display_data"
    }
   ],
   "source": [
    "multiClassModel = tf.keras.Sequential([\n",
    "    tf.keras.layers.Dense(3, activation='sigmoid'),\n",
    "    tf.keras.layers.Dense(3, activation='softmax')\n",
    "])\n",
    "multiClassModel.compile(optimizer=tf.keras.optimizers.SGD(learning_rate=0.5),\n",
    "              loss='categorical_crossentropy', metrics=['accuracy'])\n",
    "\n",
    "Y_multiClass = np.zeros((X.shape[0], 3))\n",
    "Y_multiClass[:,2] = 1\n",
    "history = multiClassModel.fit(X,Y_multiClass, epochs=10, verbose=0, validation_split=0.3, batch_size=16)\n",
    "\n",
    "# Plot training & validation accuracy values\n",
    "plt.plot(history.history['accuracy'])\n",
    "plt.plot(history.history['val_accuracy'])\n",
    "plt.title('Model accuracy')\n",
    "plt.ylabel('Accuracy')\n",
    "plt.xlabel('Epoch')\n",
    "plt.legend(['Train', 'Validation'], loc='upper left')\n",
    "plt.show()"
   ]
  },
  {
   "cell_type": "markdown",
   "metadata": {},
   "source": [
    "### Creating custom keras models\n",
    "\n",
    "Instead of using `keras.Sequential`, we can also write our own model class by inheriting from `keras.Model`:"
   ]
  },
  {
   "cell_type": "code",
   "execution_count": 28,
   "metadata": {},
   "outputs": [],
   "source": [
    "class FancyClassifier(tf.keras.Model):\n",
    "  def __init__(self):\n",
    "    super(FancyClassifier, self).__init__()\n",
    "    self.d1 = keras.layers.Dense(4, activation='relu')\n",
    "    self.d2 = keras.layers.Dense(4, activation='relu')\n",
    "    self.out = keras.layers.Dense(1, activation='sigmoid')\n",
    "\n",
    "  def __call__(self, x):\n",
    "    x = self.d1(x)\n",
    "    x = self.d2(x)\n",
    "    return self.out(x)\n",
    "model = FancyClassifier()\n",
    "\n",
    "model.compile(optimizer=tf.keras.optimizers.SGD(learning_rate=0.001),\n",
    "              loss=keras.losses.MeanSquaredError())"
   ]
  },
  {
   "cell_type": "markdown",
   "metadata": {},
   "source": [
    "Training is also just calling `model.fit(...)`\n",
    "You can also pass custom loss functions, etc."
   ]
  },
  {
   "cell_type": "markdown",
   "metadata": {},
   "source": [
    "If you want to evaluate your model on some test dataset\n",
    "(like fit without training, but including metrics),\n",
    "you can use `evaluate()`:"
   ]
  },
  {
   "cell_type": "code",
   "execution_count": null,
   "metadata": {},
   "outputs": [],
   "source": []
  }
 ],
 "metadata": {
  "kernelspec": {
   "display_name": "Python 3",
   "language": "python",
   "name": "python3"
  },
  "language_info": {
   "codemirror_mode": {
    "name": "ipython",
    "version": 3
   },
   "file_extension": ".py",
   "mimetype": "text/x-python",
   "name": "python",
   "nbconvert_exporter": "python",
   "pygments_lexer": "ipython3",
   "version": "3.7.9"
  }
 },
 "nbformat": 4,
 "nbformat_minor": 2
}
